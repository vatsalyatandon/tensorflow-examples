{
  "nbformat": 4,
  "nbformat_minor": 0,
  "metadata": {
    "colab": {
      "name": "Text Classification.ipynb",
      "version": "0.3.2",
      "provenance": [],
      "include_colab_link": true
    },
    "kernelspec": {
      "name": "python3",
      "display_name": "Python 3"
    }
  },
  "cells": [
    {
      "cell_type": "markdown",
      "metadata": {
        "id": "view-in-github",
        "colab_type": "text"
      },
      "source": [
        "<a href=\"https://colab.research.google.com/github/vatsalyatandon/tensorflow-examples/blob/master/Text_Classification.ipynb\" target=\"_parent\"><img src=\"https://colab.research.google.com/assets/colab-badge.svg\" alt=\"Open In Colab\"/></a>"
      ]
    },
    {
      "metadata": {
        "id": "JQbThaHIL7iz",
        "colab_type": "code",
        "colab": {
          "base_uri": "https://localhost:8080/",
          "height": 34
        },
        "outputId": "443c55aa-b53c-4d08-abf3-d4655045bd04"
      },
      "cell_type": "code",
      "source": [
        "from __future__ import absolute_import, division, print_function\n",
        "\n",
        "import tensorflow as tf\n",
        "from tensorflow import keras\n",
        "\n",
        "import numpy as np\n",
        "\n",
        "print(tf.__version__)\n"
      ],
      "execution_count": 1,
      "outputs": [
        {
          "output_type": "stream",
          "text": [
            "1.13.1\n"
          ],
          "name": "stdout"
        }
      ]
    },
    {
      "metadata": {
        "id": "2Unmni7bMF62",
        "colab_type": "code",
        "colab": {
          "base_uri": "https://localhost:8080/",
          "height": 52
        },
        "outputId": "d25764de-46e5-4539-ab62-6136272251d5"
      },
      "cell_type": "code",
      "source": [
        "imdb = keras.datasets.imdb\n",
        "(train_data, train_labels) , (test_data, test_labels) = imdb.load_data(num_words = 10000)"
      ],
      "execution_count": 2,
      "outputs": [
        {
          "output_type": "stream",
          "text": [
            "Downloading data from https://storage.googleapis.com/tensorflow/tf-keras-datasets/imdb.npz\n",
            "17465344/17464789 [==============================] - 0s 0us/step\n"
          ],
          "name": "stdout"
        }
      ]
    },
    {
      "metadata": {
        "id": "4SKUGFrQMR6C",
        "colab_type": "code",
        "colab": {
          "base_uri": "https://localhost:8080/",
          "height": 34
        },
        "outputId": "0d7ff00b-bb8e-4bc4-ceda-5471cdc03e6e"
      },
      "cell_type": "code",
      "source": [
        "print(\"Training entries: {}, labels: {}\".format(len(train_data), len(train_labels)))"
      ],
      "execution_count": 3,
      "outputs": [
        {
          "output_type": "stream",
          "text": [
            "Training entries: 25000, labels: 25000\n"
          ],
          "name": "stdout"
        }
      ]
    },
    {
      "metadata": {
        "id": "4EBrBjcLMU1p",
        "colab_type": "code",
        "colab": {
          "base_uri": "https://localhost:8080/",
          "height": 54
        },
        "outputId": "13f50e64-e604-4e43-8edc-de525a3d615f"
      },
      "cell_type": "code",
      "source": [
        "print(train_data[0])"
      ],
      "execution_count": 4,
      "outputs": [
        {
          "output_type": "stream",
          "text": [
            "[1, 14, 22, 16, 43, 530, 973, 1622, 1385, 65, 458, 4468, 66, 3941, 4, 173, 36, 256, 5, 25, 100, 43, 838, 112, 50, 670, 2, 9, 35, 480, 284, 5, 150, 4, 172, 112, 167, 2, 336, 385, 39, 4, 172, 4536, 1111, 17, 546, 38, 13, 447, 4, 192, 50, 16, 6, 147, 2025, 19, 14, 22, 4, 1920, 4613, 469, 4, 22, 71, 87, 12, 16, 43, 530, 38, 76, 15, 13, 1247, 4, 22, 17, 515, 17, 12, 16, 626, 18, 2, 5, 62, 386, 12, 8, 316, 8, 106, 5, 4, 2223, 5244, 16, 480, 66, 3785, 33, 4, 130, 12, 16, 38, 619, 5, 25, 124, 51, 36, 135, 48, 25, 1415, 33, 6, 22, 12, 215, 28, 77, 52, 5, 14, 407, 16, 82, 2, 8, 4, 107, 117, 5952, 15, 256, 4, 2, 7, 3766, 5, 723, 36, 71, 43, 530, 476, 26, 400, 317, 46, 7, 4, 2, 1029, 13, 104, 88, 4, 381, 15, 297, 98, 32, 2071, 56, 26, 141, 6, 194, 7486, 18, 4, 226, 22, 21, 134, 476, 26, 480, 5, 144, 30, 5535, 18, 51, 36, 28, 224, 92, 25, 104, 4, 226, 65, 16, 38, 1334, 88, 12, 16, 283, 5, 16, 4472, 113, 103, 32, 15, 16, 5345, 19, 178, 32]\n"
          ],
          "name": "stdout"
        }
      ]
    },
    {
      "metadata": {
        "id": "lQ2aNHfSMXfk",
        "colab_type": "code",
        "colab": {
          "base_uri": "https://localhost:8080/",
          "height": 34
        },
        "outputId": "9e96aaf4-97f0-4c19-a644-9a2b7707c194"
      },
      "cell_type": "code",
      "source": [
        "len(train_data[0]), len(train_data[1])\n"
      ],
      "execution_count": 5,
      "outputs": [
        {
          "output_type": "execute_result",
          "data": {
            "text/plain": [
              "(218, 189)"
            ]
          },
          "metadata": {
            "tags": []
          },
          "execution_count": 5
        }
      ]
    },
    {
      "metadata": {
        "id": "8a3gZ-e3MaHV",
        "colab_type": "text"
      },
      "cell_type": "markdown",
      "source": [
        "# Converting integers back into words using a dictionary"
      ]
    },
    {
      "metadata": {
        "id": "25mQtro8MgFL",
        "colab_type": "code",
        "colab": {
          "base_uri": "https://localhost:8080/",
          "height": 52
        },
        "outputId": "989480e2-8359-426c-d429-6e3dc37487da"
      },
      "cell_type": "code",
      "source": [
        "# A dictionary mapping words to an integer index\n",
        "word_index = imdb.get_word_index()\n",
        "\n",
        "# The first indices are reserved\n",
        "word_index = {k:(v+3) for k,v in word_index.items()} \n",
        "word_index[\"<PAD>\"] = 0\n",
        "word_index[\"<START>\"] = 1\n",
        "word_index[\"<UNK>\"] = 2  # unknown\n",
        "word_index[\"<UNUSED>\"] = 3\n",
        "\n",
        "reverse_word_index = dict([(value, key) for (key, value) in word_index.items()])\n",
        "\n",
        "def decode_review(text):\n",
        "    return ' '.join([reverse_word_index.get(i, '?') for i in text])"
      ],
      "execution_count": 6,
      "outputs": [
        {
          "output_type": "stream",
          "text": [
            "Downloading data from https://storage.googleapis.com/tensorflow/tf-keras-datasets/imdb_word_index.json\n",
            "1646592/1641221 [==============================] - 0s 0us/step\n"
          ],
          "name": "stdout"
        }
      ]
    },
    {
      "metadata": {
        "id": "i8iwslP-MiCT",
        "colab_type": "code",
        "colab": {
          "base_uri": "https://localhost:8080/",
          "height": 54
        },
        "outputId": "63e95387-298b-4127-d51c-75266fd50f1b"
      },
      "cell_type": "code",
      "source": [
        "decode_review(train_data[0])\n"
      ],
      "execution_count": 7,
      "outputs": [
        {
          "output_type": "execute_result",
          "data": {
            "text/plain": [
              "\"<START> this film was just brilliant casting location scenery story direction everyone's really suited the part they played and you could just imagine being there robert <UNK> is an amazing actor and now the same being director <UNK> father came from the same scottish island as myself so i loved the fact there was a real connection with this film the witty remarks throughout the film were great it was just brilliant so much that i bought the film as soon as it was released for <UNK> and would recommend it to everyone to watch and the fly fishing was amazing really cried at the end it was so sad and you know what they say if you cry at a film it must have been good and this definitely was also <UNK> to the two little boy's that played the <UNK> of norman and paul they were just brilliant children are often left out of the <UNK> list i think because the stars that play them all grown up are such a big profile for the whole film but these children are amazing and should be praised for what they have done don't you think the whole story was so lovely because it was true and was someone's life after all that was shared with us all\""
            ]
          },
          "metadata": {
            "tags": []
          },
          "execution_count": 7
        }
      ]
    },
    {
      "metadata": {
        "id": "EZtmfdsXMluW",
        "colab_type": "text"
      },
      "cell_type": "markdown",
      "source": [
        "# Preparing the Data\n",
        "## One hot encoding with a 10,000 size vector\n",
        "### Padding the arrays, so that the they all have the same length"
      ]
    },
    {
      "metadata": {
        "id": "QtlmkL_-Nb51",
        "colab_type": "code",
        "colab": {}
      },
      "cell_type": "code",
      "source": [
        "train_data = keras.preprocessing.sequence.pad_sequences(train_data, value=word_index[\"<PAD>\"], padding=\"post\", maxlen=256)\n",
        "test_data = keras.preprocessing.sequence.pad_sequences(test_data, value=word_index[\"<PAD>\"], padding='post', maxlen=256)"
      ],
      "execution_count": 0,
      "outputs": []
    },
    {
      "metadata": {
        "id": "WbUff_FHN4od",
        "colab_type": "code",
        "colab": {
          "base_uri": "https://localhost:8080/",
          "height": 34
        },
        "outputId": "67367741-f330-4d2c-b1dc-f187589693de"
      },
      "cell_type": "code",
      "source": [
        "len(train_data[0]), len(train_data[1])"
      ],
      "execution_count": 9,
      "outputs": [
        {
          "output_type": "execute_result",
          "data": {
            "text/plain": [
              "(256, 256)"
            ]
          },
          "metadata": {
            "tags": []
          },
          "execution_count": 9
        }
      ]
    },
    {
      "metadata": {
        "id": "z71p6HXXTYfe",
        "colab_type": "code",
        "colab": {
          "base_uri": "https://localhost:8080/",
          "height": 347
        },
        "outputId": "f772de7c-2619-41f7-8a80-32c1fb141eff"
      },
      "cell_type": "code",
      "source": [
        "print(train_data[0])"
      ],
      "execution_count": 10,
      "outputs": [
        {
          "output_type": "stream",
          "text": [
            "[   1   14   22   16   43  530  973 1622 1385   65  458 4468   66 3941\n",
            "    4  173   36  256    5   25  100   43  838  112   50  670    2    9\n",
            "   35  480  284    5  150    4  172  112  167    2  336  385   39    4\n",
            "  172 4536 1111   17  546   38   13  447    4  192   50   16    6  147\n",
            " 2025   19   14   22    4 1920 4613  469    4   22   71   87   12   16\n",
            "   43  530   38   76   15   13 1247    4   22   17  515   17   12   16\n",
            "  626   18    2    5   62  386   12    8  316    8  106    5    4 2223\n",
            " 5244   16  480   66 3785   33    4  130   12   16   38  619    5   25\n",
            "  124   51   36  135   48   25 1415   33    6   22   12  215   28   77\n",
            "   52    5   14  407   16   82    2    8    4  107  117 5952   15  256\n",
            "    4    2    7 3766    5  723   36   71   43  530  476   26  400  317\n",
            "   46    7    4    2 1029   13  104   88    4  381   15  297   98   32\n",
            " 2071   56   26  141    6  194 7486   18    4  226   22   21  134  476\n",
            "   26  480    5  144   30 5535   18   51   36   28  224   92   25  104\n",
            "    4  226   65   16   38 1334   88   12   16  283    5   16 4472  113\n",
            "  103   32   15   16 5345   19  178   32    0    0    0    0    0    0\n",
            "    0    0    0    0    0    0    0    0    0    0    0    0    0    0\n",
            "    0    0    0    0    0    0    0    0    0    0    0    0    0    0\n",
            "    0    0    0    0]\n"
          ],
          "name": "stdout"
        }
      ]
    },
    {
      "metadata": {
        "id": "ZFBXAwboTcHf",
        "colab_type": "code",
        "colab": {
          "base_uri": "https://localhost:8080/",
          "height": 278
        },
        "outputId": "83b4d19c-c503-4312-ea3a-9ffc56a33ad5"
      },
      "cell_type": "code",
      "source": [
        "vocab_size = 10000\n",
        "\n",
        "model = keras.Sequential()\n",
        "model.add(keras.layers.Embedding(vocab_size,16))\n",
        "model.add(keras.layers.GlobalAvgPool1D())\n",
        "model.add(keras.layers.Dense(16, activation=tf.nn.relu))\n",
        "model.add(keras.layers.Dense(1, activation=tf.nn.sigmoid))\n",
        "\n",
        "model.summary()"
      ],
      "execution_count": 13,
      "outputs": [
        {
          "output_type": "stream",
          "text": [
            "_________________________________________________________________\n",
            "Layer (type)                 Output Shape              Param #   \n",
            "=================================================================\n",
            "embedding_1 (Embedding)      (None, None, 16)          160000    \n",
            "_________________________________________________________________\n",
            "global_average_pooling1d_1 ( (None, 16)                0         \n",
            "_________________________________________________________________\n",
            "dense_1 (Dense)              (None, 16)                272       \n",
            "_________________________________________________________________\n",
            "dense_2 (Dense)              (None, 1)                 17        \n",
            "=================================================================\n",
            "Total params: 160,289\n",
            "Trainable params: 160,289\n",
            "Non-trainable params: 0\n",
            "_________________________________________________________________\n"
          ],
          "name": "stdout"
        }
      ]
    },
    {
      "metadata": {
        "id": "1XxomfPgT4tP",
        "colab_type": "code",
        "colab": {}
      },
      "cell_type": "code",
      "source": [
        "from keras.utils import plot_model\n",
        "plot_model(model, to_file='model.png')"
      ],
      "execution_count": 0,
      "outputs": []
    },
    {
      "metadata": {
        "id": "KFRvlAppUjBW",
        "colab_type": "code",
        "colab": {
          "base_uri": "https://localhost:8080/",
          "height": 466
        },
        "outputId": "4f6072a8-18af-4488-b2b7-5f3fac81015d"
      },
      "cell_type": "code",
      "source": [
        "from IPython.display import Image\n",
        "Image(\"model.png\")"
      ],
      "execution_count": 18,
      "outputs": [
        {
          "output_type": "execute_result",
          "data": {
            "image/png": "[encoded data removed]",
            "text/plain": [
              "<IPython.core.display.Image object>"
            ]
          },
          "metadata": {
            "tags": []
          },
          "execution_count": 18
        }
      ]
    },
    {
      "metadata": {
        "id": "ei-BgsinUhom",
        "colab_type": "code",
        "colab": {}
      },
      "cell_type": "code",
      "source": [
        "model.compile(optimizer='adam', loss='binary_crossentropy', metrics=['acc'])"
      ],
      "execution_count": 0,
      "outputs": []
    },
    {
      "metadata": {
        "id": "1gtkOtMAVPh3",
        "colab_type": "code",
        "colab": {}
      },
      "cell_type": "code",
      "source": [
        "x_val = train_data[:10000]\n",
        "partial_x_train= train_data[10000:]\n",
        "\n",
        "y_val = train_labels[:10000]\n",
        "partial_y_train= train_labels[10000:]"
      ],
      "execution_count": 0,
      "outputs": []
    },
    {
      "metadata": {
        "id": "coOvunWCVihv",
        "colab_type": "code",
        "colab": {
          "base_uri": "https://localhost:8080/",
          "height": 1496
        },
        "outputId": "fa698f11-f8ca-4a6b-bd52-010439cc0202"
      },
      "cell_type": "code",
      "source": [
        "history = model.fit(partial_x_train, partial_y_train, epochs=40, batch_size = 512, validation_data=(x_val, y_val), verbose =1)"
      ],
      "execution_count": 22,
      "outputs": [
        {
          "output_type": "stream",
          "text": [
            "Train on 15000 samples, validate on 10000 samples\n",
            "WARNING:tensorflow:From /usr/local/lib/python3.6/dist-packages/tensorflow/python/ops/math_ops.py:3066: to_int32 (from tensorflow.python.ops.math_ops) is deprecated and will be removed in a future version.\n",
            "Instructions for updating:\n",
            "Use tf.cast instead.\n",
            "Epoch 1/40\n",
            "15000/15000 [==============================] - 1s 87us/sample - loss: 0.6910 - acc: 0.6027 - val_loss: 0.6881 - val_acc: 0.7052\n",
            "Epoch 2/40\n",
            "15000/15000 [==============================] - 1s 54us/sample - loss: 0.6835 - acc: 0.7248 - val_loss: 0.6786 - val_acc: 0.7358\n",
            "Epoch 3/40\n",
            "15000/15000 [==============================] - 1s 53us/sample - loss: 0.6693 - acc: 0.7571 - val_loss: 0.6614 - val_acc: 0.7477\n",
            "Epoch 4/40\n",
            "15000/15000 [==============================] - 1s 50us/sample - loss: 0.6462 - acc: 0.7667 - val_loss: 0.6356 - val_acc: 0.7511\n",
            "Epoch 5/40\n",
            "15000/15000 [==============================] - 1s 50us/sample - loss: 0.6134 - acc: 0.7907 - val_loss: 0.6015 - val_acc: 0.7785\n",
            "Epoch 6/40\n",
            "15000/15000 [==============================] - 1s 50us/sample - loss: 0.5722 - acc: 0.8105 - val_loss: 0.5617 - val_acc: 0.8029\n",
            "Epoch 7/40\n",
            "15000/15000 [==============================] - 1s 50us/sample - loss: 0.5260 - acc: 0.8284 - val_loss: 0.5185 - val_acc: 0.8175\n",
            "Epoch 8/40\n",
            "15000/15000 [==============================] - 1s 51us/sample - loss: 0.4795 - acc: 0.8455 - val_loss: 0.4782 - val_acc: 0.8317\n",
            "Epoch 9/40\n",
            "15000/15000 [==============================] - 1s 51us/sample - loss: 0.4360 - acc: 0.8609 - val_loss: 0.4417 - val_acc: 0.8432\n",
            "Epoch 10/40\n",
            "15000/15000 [==============================] - 1s 51us/sample - loss: 0.3974 - acc: 0.8733 - val_loss: 0.4113 - val_acc: 0.8505\n",
            "Epoch 11/40\n",
            "15000/15000 [==============================] - 1s 51us/sample - loss: 0.3646 - acc: 0.8806 - val_loss: 0.3862 - val_acc: 0.8579\n",
            "Epoch 12/40\n",
            "15000/15000 [==============================] - 1s 52us/sample - loss: 0.3368 - acc: 0.8887 - val_loss: 0.3666 - val_acc: 0.8612\n",
            "Epoch 13/40\n",
            "15000/15000 [==============================] - 1s 51us/sample - loss: 0.3141 - acc: 0.8952 - val_loss: 0.3495 - val_acc: 0.8674\n",
            "Epoch 14/40\n",
            "15000/15000 [==============================] - 1s 51us/sample - loss: 0.2936 - acc: 0.9005 - val_loss: 0.3369 - val_acc: 0.8708\n",
            "Epoch 15/40\n",
            "15000/15000 [==============================] - 1s 51us/sample - loss: 0.2764 - acc: 0.9053 - val_loss: 0.3266 - val_acc: 0.8737\n",
            "Epoch 16/40\n",
            "15000/15000 [==============================] - 1s 48us/sample - loss: 0.2609 - acc: 0.9099 - val_loss: 0.3179 - val_acc: 0.8746\n",
            "Epoch 17/40\n",
            "15000/15000 [==============================] - 1s 47us/sample - loss: 0.2467 - acc: 0.9150 - val_loss: 0.3106 - val_acc: 0.8773\n",
            "Epoch 18/40\n",
            "15000/15000 [==============================] - 1s 48us/sample - loss: 0.2341 - acc: 0.9196 - val_loss: 0.3046 - val_acc: 0.8803\n",
            "Epoch 19/40\n",
            "15000/15000 [==============================] - 1s 48us/sample - loss: 0.2227 - acc: 0.9225 - val_loss: 0.2993 - val_acc: 0.8818\n",
            "Epoch 20/40\n",
            "15000/15000 [==============================] - 1s 48us/sample - loss: 0.2125 - acc: 0.9259 - val_loss: 0.2956 - val_acc: 0.8813\n",
            "Epoch 21/40\n",
            "15000/15000 [==============================] - 1s 48us/sample - loss: 0.2020 - acc: 0.9321 - val_loss: 0.2925 - val_acc: 0.8820\n",
            "Epoch 22/40\n",
            "15000/15000 [==============================] - 1s 48us/sample - loss: 0.1933 - acc: 0.9343 - val_loss: 0.2902 - val_acc: 0.8834\n",
            "Epoch 23/40\n",
            "15000/15000 [==============================] - 1s 47us/sample - loss: 0.1845 - acc: 0.9395 - val_loss: 0.2890 - val_acc: 0.8823\n",
            "Epoch 24/40\n",
            "15000/15000 [==============================] - 1s 48us/sample - loss: 0.1769 - acc: 0.9427 - val_loss: 0.2871 - val_acc: 0.8843\n",
            "Epoch 25/40\n",
            "15000/15000 [==============================] - 1s 48us/sample - loss: 0.1691 - acc: 0.9463 - val_loss: 0.2859 - val_acc: 0.8839\n",
            "Epoch 26/40\n",
            "15000/15000 [==============================] - 1s 47us/sample - loss: 0.1621 - acc: 0.9493 - val_loss: 0.2864 - val_acc: 0.8831\n",
            "Epoch 27/40\n",
            "15000/15000 [==============================] - 1s 48us/sample - loss: 0.1555 - acc: 0.9512 - val_loss: 0.2859 - val_acc: 0.8838\n",
            "Epoch 28/40\n",
            "15000/15000 [==============================] - 1s 48us/sample - loss: 0.1493 - acc: 0.9540 - val_loss: 0.2861 - val_acc: 0.8849\n",
            "Epoch 29/40\n",
            "15000/15000 [==============================] - 1s 47us/sample - loss: 0.1438 - acc: 0.9572 - val_loss: 0.2883 - val_acc: 0.8828\n",
            "Epoch 30/40\n",
            "15000/15000 [==============================] - 1s 48us/sample - loss: 0.1381 - acc: 0.9583 - val_loss: 0.2874 - val_acc: 0.8849\n",
            "Epoch 31/40\n",
            "15000/15000 [==============================] - 1s 48us/sample - loss: 0.1323 - acc: 0.9609 - val_loss: 0.2887 - val_acc: 0.8854\n",
            "Epoch 32/40\n",
            "15000/15000 [==============================] - 1s 48us/sample - loss: 0.1271 - acc: 0.9636 - val_loss: 0.2902 - val_acc: 0.8858\n",
            "Epoch 33/40\n",
            "15000/15000 [==============================] - 1s 48us/sample - loss: 0.1221 - acc: 0.9651 - val_loss: 0.2926 - val_acc: 0.8837\n",
            "Epoch 34/40\n",
            "15000/15000 [==============================] - 1s 47us/sample - loss: 0.1176 - acc: 0.9663 - val_loss: 0.2944 - val_acc: 0.8856\n",
            "Epoch 35/40\n",
            "15000/15000 [==============================] - 1s 48us/sample - loss: 0.1134 - acc: 0.9678 - val_loss: 0.2977 - val_acc: 0.8846\n",
            "Epoch 36/40\n",
            "15000/15000 [==============================] - 1s 48us/sample - loss: 0.1091 - acc: 0.9704 - val_loss: 0.2993 - val_acc: 0.8842\n",
            "Epoch 37/40\n",
            "15000/15000 [==============================] - 1s 47us/sample - loss: 0.1048 - acc: 0.9713 - val_loss: 0.3017 - val_acc: 0.8834\n",
            "Epoch 38/40\n",
            "15000/15000 [==============================] - 1s 48us/sample - loss: 0.1009 - acc: 0.9728 - val_loss: 0.3053 - val_acc: 0.8825\n",
            "Epoch 39/40\n",
            "15000/15000 [==============================] - 1s 47us/sample - loss: 0.0977 - acc: 0.9737 - val_loss: 0.3088 - val_acc: 0.8819\n",
            "Epoch 40/40\n",
            "15000/15000 [==============================] - 1s 48us/sample - loss: 0.0936 - acc: 0.9761 - val_loss: 0.3109 - val_acc: 0.8821\n"
          ],
          "name": "stdout"
        }
      ]
    },
    {
      "metadata": {
        "id": "r9cU6ffHV0JA",
        "colab_type": "code",
        "colab": {
          "base_uri": "https://localhost:8080/",
          "height": 52
        },
        "outputId": "d2f29a3f-c194-49aa-8f12-ef236db69996"
      },
      "cell_type": "code",
      "source": [
        "results = model.evaluate(test_data, test_labels)\n",
        "print(results)"
      ],
      "execution_count": 23,
      "outputs": [
        {
          "output_type": "stream",
          "text": [
            "25000/25000 [==============================] - 1s 36us/sample - loss: 0.3317 - acc: 0.8718\n",
            "[0.3316809449481964, 0.87184]\n"
          ],
          "name": "stdout"
        }
      ]
    },
    {
      "metadata": {
        "id": "sHoU4RcUWCDo",
        "colab_type": "code",
        "colab": {
          "base_uri": "https://localhost:8080/",
          "height": 34
        },
        "outputId": "0ed062c8-b78c-4971-db29-8f565a036005"
      },
      "cell_type": "code",
      "source": [
        "history_dict = history.history\n",
        "history_dict.keys()"
      ],
      "execution_count": 24,
      "outputs": [
        {
          "output_type": "execute_result",
          "data": {
            "text/plain": [
              "dict_keys(['loss', 'acc', 'val_loss', 'val_acc'])"
            ]
          },
          "metadata": {
            "tags": []
          },
          "execution_count": 24
        }
      ]
    },
    {
      "metadata": {
        "id": "Sc79eyRaWNCo",
        "colab_type": "code",
        "colab": {
          "base_uri": "https://localhost:8080/",
          "height": 376
        },
        "outputId": "872e7084-054a-49de-e9c1-20c63842ff5c"
      },
      "cell_type": "code",
      "source": [
        "import matplotlib.pyplot as plt\n",
        "\n",
        "acc = history_dict['acc']\n",
        "val_acc = history_dict['val_acc']\n",
        "loss = history_dict['loss']\n",
        "val_loss = history_dict['val_loss']\n",
        "\n",
        "epochs = range(1, len(acc) + 1 )\n",
        "\n",
        "plt.plot(epochs, loss, 'bo', label = 'Training Loss')\n",
        "plt.plot(epochs, val_loss, 'b', label = 'Validation Loss')\n",
        "plt.title('Training and validation Loss')\n",
        "plt.xlabel('Epochs')\n",
        "plt.ylabel('Loss')\n",
        "plt.legend()\n",
        "\n",
        "plt.show()"
      ],
      "execution_count": 25,
      "outputs": [
        {
          "output_type": "display_data",
          "data": {
            "image/png": "[encoded data removed]",
            "text/plain": [
              "<Figure size 576x396 with 1 Axes>"
            ]
          },
          "metadata": {
            "tags": []
          }
        }
      ]
    },
    {
      "metadata": {
        "id": "f_JQs9YyW2yJ",
        "colab_type": "code",
        "colab": {
          "base_uri": "https://localhost:8080/",
          "height": 376
        },
        "outputId": "5ae28df6-4d8d-4457-dbd2-4be191953178"
      },
      "cell_type": "code",
      "source": [
        "plt.clf()   # clear figure\n",
        "\n",
        "plt.plot(epochs, acc, 'bo', label='Training acc')\n",
        "plt.plot(epochs, val_acc, 'b', label='Validation acc')\n",
        "plt.title('Training and validation accuracy')\n",
        "plt.xlabel('Epochs')\n",
        "plt.ylabel('Accuracy')\n",
        "plt.legend()\n",
        "\n",
        "plt.show()\n"
      ],
      "execution_count": 26,
      "outputs": [
        {
          "output_type": "display_data",
          "data": {
            "image/png": "[encoded data removed]",
            "text/plain": [
              "<Figure size 576x396 with 1 Axes>"
            ]
          },
          "metadata": {
            "tags": []
          }
        }
      ]
    },
    {
      "metadata": {
        "id": "TwgnGb9ZYDE8",
        "colab_type": "code",
        "colab": {}
      },
      "cell_type": "code",
      "source": [
        ""
      ],
      "execution_count": 0,
      "outputs": []
    }
  ]
}