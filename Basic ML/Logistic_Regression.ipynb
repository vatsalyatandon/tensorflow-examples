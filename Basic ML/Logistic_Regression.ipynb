{
  "nbformat": 4,
  "nbformat_minor": 0,
  "metadata": {
    "colab": {
      "name": "LogisticRegressionTensorflow.ipynb",
      "version": "0.3.2",
      "provenance": []
    },
    "kernelspec": {
      "name": "python3",
      "display_name": "Python 3"
    }
  },
  "cells": [
    {
      "cell_type": "markdown",
      "metadata": {
        "id": "4E554rBbzg9N",
        "colab_type": "text"
      },
      "source": [
        "## Loading modules"
      ]
    },
    {
      "cell_type": "code",
      "metadata": {
        "id": "-Cd_9_j1zLHj",
        "colab_type": "code",
        "colab": {}
      },
      "source": [
        "%matplotlib inline\n",
        "import matplotlib.pyplot as plt\n",
        "import numpy as np\n",
        "from io import BytesIO"
      ],
      "execution_count": 0,
      "outputs": []
    },
    {
      "cell_type": "markdown",
      "metadata": {
        "id": "3dQA386Uzcc3",
        "colab_type": "text"
      },
      "source": [
        "## Loading Dataset\n"
      ]
    },
    {
      "cell_type": "code",
      "metadata": {
        "id": "vOAZxKVBzYlI",
        "colab_type": "code",
        "colab": {}
      },
      "source": [
        "data = np.lib.DataSource()\n",
        "fp = data.open('https://archive.ics.uci.edu/ml/machine-learning-databases/iris/iris.data')\n",
        "\n",
        "x = np.genfromtxt(BytesIO(fp.read().encode()), delimiter=',', usecols=range(2), max_rows=100)\n",
        "y = np.zeros(100)\n",
        "y[50:] = 1"
      ],
      "execution_count": 0,
      "outputs": []
    },
    {
      "cell_type": "code",
      "metadata": {
        "id": "sAhUaZ1L0EtS",
        "colab_type": "code",
        "colab": {
          "base_uri": "https://localhost:8080/",
          "height": 68
        },
        "outputId": "6e2c473c-65b2-4e9a-de88-47cde19bbde4"
      },
      "source": [
        "np.random.seed(1)\n",
        "index = np.arange(y.shape[0])\n",
        "np.random.shuffle(index)\n",
        "x_test, y_test = x[index[:25]], y[index[:25]]\n",
        "x_train, y_train = x[index[25:]], y[index[25:]]\n",
        "mu, std = np.mean(x_train, axis=0), np.std(x_train, axis=0)\n",
        "x_train, x_test = (x_train - mu)/std, (x_test - mu)/std\n",
        "print(\"X and Y: \" , x.shape, \" \", y.shape)\n",
        "print(\"X_train and Y_train: \" , x_train.shape, \" \", y_train.shape)\n",
        "print(\"X_test and Y_test: \" , x_test.shape, \" \", y_test.shape)"
      ],
      "execution_count": 4,
      "outputs": [
        {
          "output_type": "stream",
          "text": [
            "X and Y:  (100, 2)   (100,)\n",
            "X_train and Y_train:  (75, 2)   (75,)\n",
            "X_test and Y_test:  (25, 2)   (25,)\n"
          ],
          "name": "stdout"
        }
      ]
    },
    {
      "cell_type": "code",
      "metadata": {
        "id": "BdF9xB8Y0qBj",
        "colab_type": "code",
        "colab": {
          "base_uri": "https://localhost:8080/",
          "height": 187
        },
        "outputId": "992cbf12-7bbb-4db2-815c-a6436d4bf9e3"
      },
      "source": [
        "fig, ax = plt.subplots(1,2, figsize=(7,2.5))\n",
        "ax[0].scatter(x_train[y_train == 1, 0], x_train[y_train == 1, 1])\n",
        "ax[0].scatter(x_train[y_train == 0, 0], x_train[y_train == 0, 1])\n",
        "ax[1].scatter(x_test[y_test == 1, 0], x_test[y_test == 1, 1])\n",
        "ax[1].scatter(x_test[y_test == 0, 0], x_test[y_test == 0, 1])\n",
        "plt.show()"
      ],
      "execution_count": 5,
      "outputs": [
        {
          "output_type": "display_data",
          "data": {
            "image/png": "[encoded data removed]",
            "text/plain": [
              "<Figure size 504x180 with 2 Axes>"
            ]
          },
          "metadata": {
            "tags": []
          }
        }
      ]
    },
    {
      "cell_type": "markdown",
      "metadata": {
        "id": "FCdAegAD3rRD",
        "colab_type": "text"
      },
      "source": [
        "## Helper Function"
      ]
    },
    {
      "cell_type": "code",
      "metadata": {
        "id": "5vzZ-Yub1NMp",
        "colab_type": "code",
        "colab": {}
      },
      "source": [
        "def iter_minibatches(arrays, batch_size, shuffle=False, seed = None):\n",
        "  rgen = np.random.RandomState(seed)\n",
        "  indices = np.arange(arrays[0].shape[0])\n",
        "  \n",
        "  if shuffle:\n",
        "    rgen.shuffle(indices)\n",
        "  for start_idx in range(0, indices.shape[0] - batch_size+1, batch_size):\n",
        "    index_slice = indices[start_idx : start_idx + batch_size]\n",
        "    yield(ary[index_slice] for ary in arrays)"
      ],
      "execution_count": 0,
      "outputs": []
    },
    {
      "cell_type": "markdown",
      "metadata": {
        "id": "2iAH1fqR33nA",
        "colab_type": "text"
      },
      "source": [
        "## Model Construction\n"
      ]
    },
    {
      "cell_type": "code",
      "metadata": {
        "id": "QCJLbVAc3pUG",
        "colab_type": "code",
        "colab": {}
      },
      "source": [
        "import tensorflow as tf"
      ],
      "execution_count": 0,
      "outputs": []
    },
    {
      "cell_type": "markdown",
      "metadata": {
        "id": "sHXOm4S3jJkz",
        "colab_type": "text"
      },
      "source": [
        "### Hyperparameters"
      ]
    },
    {
      "cell_type": "code",
      "metadata": {
        "id": "hmits2Lb39Y6",
        "colab_type": "code",
        "colab": {}
      },
      "source": [
        "n_features = x.shape[1]\n",
        "n_samples = x.shape[0]\n",
        "learning_rate = 0.05\n",
        "training_epochs = 20\n",
        "batch_size = 5"
      ],
      "execution_count": 0,
      "outputs": []
    },
    {
      "cell_type": "markdown",
      "metadata": {
        "id": "Y8s3U5qYjMf5",
        "colab_type": "text"
      },
      "source": [
        "### Defining graph"
      ]
    },
    {
      "cell_type": "code",
      "metadata": {
        "id": "ytm6bB4H4Kb3",
        "colab_type": "code",
        "colab": {}
      },
      "source": [
        "g= tf.Graph()\n",
        "with g.as_default() as g:\n",
        "  tf_x = tf.placeholder(dtype=tf.float32, shape = [None, n_features], name='inputs')\n",
        "  tf_y = tf.placeholder(dtype=tf.float32, shape = [None], name='targets')\n",
        "  \n",
        "  params = { 'weights': tf.Variable(tf.zeros(shape=[n_features, 1], dtype= tf.float32), name = 'weights'), \n",
        "             'bias': tf.Variable([[0.]],dtype=tf.float32, name='bias')}\n",
        "  \n",
        "  linear = tf.matmul(tf_x, params['weights'] + params['bias'])\n",
        "  pred_proba = tf.sigmoid(linear, name='predict_probas')\n",
        "  \n",
        "  r = tf.reshape(pred_proba, [-1])\n",
        "  cost = tf.reduce_mean(tf.reduce_sum((-tf_y * tf.log(r)) - ((1. - tf_y)* tf.log(1. - r))), name = 'cost')\n",
        "  optimizer = tf.train.GradientDescentOptimizer(learning_rate = learning_rate)\n",
        "  train = optimizer.minimize(cost, name = \"train\")\n",
        "  \n",
        "  pred_labels = tf.round(tf.reshape(pred_proba, [-1]), name = \"predict_labels\")\n",
        "  correct_prediction = tf.equal(tf_y, pred_labels)\n",
        "  accuracy = tf.reduce_mean(tf.cast(correct_prediction, tf.float32), name = 'accuracy')"
      ],
      "execution_count": 0,
      "outputs": []
    },
    {
      "cell_type": "markdown",
      "metadata": {
        "id": "dMlqh-3LjQVD",
        "colab_type": "text"
      },
      "source": [
        "### Running Sessions"
      ]
    },
    {
      "cell_type": "code",
      "metadata": {
        "id": "V5xowznT4PEr",
        "colab_type": "code",
        "colab": {
          "base_uri": "https://localhost:8080/",
          "height": 476
        },
        "outputId": "f31750da-e218-4968-dbe5-e04812069186"
      },
      "source": [
        "with tf.Session(graph=g) as sess:\n",
        "  sess.run(tf.global_variables_initializer())\n",
        "  \n",
        "  avg_cost = np.nan\n",
        "  count = 1\n",
        "  \n",
        "  for epoch in range(training_epochs):\n",
        "    train_acc = sess.run(\"accuracy:0\", feed_dict={tf_x: x_train, tf_y: y_train})\n",
        "    valid_acc = sess.run(\"accuracy:0\", feed_dict={tf_x: x_test, tf_y: y_test})\n",
        "    print(\"Epoch: %03d | AvgCost: %.3f\" % (epoch, avg_cost / count), end=\"\")\n",
        "    print(\" | Train/Valid ACC: %.2f/%02f\" % (train_acc, valid_acc))\n",
        "    \n",
        "    avg_cost = 0\n",
        "    for x_batch, y_batch in iter_minibatches(arrays = [x_train, y_train], batch_size = batch_size, shuffle=True, seed = 42):\n",
        "      feed_dict = {'inputs:0': x_batch, 'targets:0': y_batch}\n",
        "      _, c = sess.run(['train', 'cost:0'], feed_dict=feed_dict)\n",
        "      avg_cost+=c\n",
        "      count+=1\n",
        "      \n",
        "  weights, bias = sess.run(['weights:0', 'bias:0'])\n",
        "  print(\"\\nWeights:\\n\", weights)\n",
        "  print(\"\\nBias:\\n\", bias)"
      ],
      "execution_count": 20,
      "outputs": [
        {
          "output_type": "stream",
          "text": [
            "Epoch: 000 | AvgCost: nan | Train/Valid ACC: 0.53/0.400000\n",
            "Epoch: 001 | AvgCost: 2.130 | Train/Valid ACC: 1.00/1.000000\n",
            "Epoch: 002 | AvgCost: 0.589 | Train/Valid ACC: 1.00/1.000000\n",
            "Epoch: 003 | AvgCost: 0.287 | Train/Valid ACC: 1.00/1.000000\n",
            "Epoch: 004 | AvgCost: 0.174 | Train/Valid ACC: 1.00/1.000000\n",
            "Epoch: 005 | AvgCost: 0.119 | Train/Valid ACC: 1.00/1.000000\n",
            "Epoch: 006 | AvgCost: 0.088 | Train/Valid ACC: 1.00/1.000000\n",
            "Epoch: 007 | AvgCost: 0.068 | Train/Valid ACC: 1.00/1.000000\n",
            "Epoch: 008 | AvgCost: 0.054 | Train/Valid ACC: 1.00/1.000000\n",
            "Epoch: 009 | AvgCost: 0.044 | Train/Valid ACC: 1.00/1.000000\n",
            "Epoch: 010 | AvgCost: 0.037 | Train/Valid ACC: 1.00/1.000000\n",
            "Epoch: 011 | AvgCost: 0.032 | Train/Valid ACC: 1.00/1.000000\n",
            "Epoch: 012 | AvgCost: 0.028 | Train/Valid ACC: 1.00/1.000000\n",
            "Epoch: 013 | AvgCost: 0.024 | Train/Valid ACC: 1.00/1.000000\n",
            "Epoch: 014 | AvgCost: 0.021 | Train/Valid ACC: 1.00/1.000000\n",
            "Epoch: 015 | AvgCost: 0.019 | Train/Valid ACC: 1.00/1.000000\n",
            "Epoch: 016 | AvgCost: 0.017 | Train/Valid ACC: 1.00/1.000000\n",
            "Epoch: 017 | AvgCost: 0.015 | Train/Valid ACC: 1.00/1.000000\n",
            "Epoch: 018 | AvgCost: 0.014 | Train/Valid ACC: 1.00/1.000000\n",
            "Epoch: 019 | AvgCost: 0.013 | Train/Valid ACC: 1.00/1.000000\n",
            "\n",
            "Weights:\n",
            " [[ 3.4498053]\n",
            " [-3.0068803]]\n",
            "\n",
            "Bias:\n",
            " [[0.4429258]]\n"
          ],
          "name": "stdout"
        }
      ]
    }
  ]
}